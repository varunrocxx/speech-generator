{
 "cells": [
  {
   "cell_type": "code",
   "execution_count": 1,
   "metadata": {
    "colab": {},
    "colab_type": "code",
    "id": "Xjtjy5Si12lR"
   },
   "outputs": [],
   "source": [
    "def generatetable(data,k = 4):\n",
    "  T={}\n",
    "\n",
    "  for i in range(len(data)-k):\n",
    "    X = data[i:i+k]\n",
    "    Y = data[i+k]\n",
    "\n",
    "    if T.get(X) is None:\n",
    "      T[X] = {}\n",
    "      T[X][Y] = 1\n",
    "    else:\n",
    "      if T[X].get(Y) is None:\n",
    "        T[X][Y]=1\n",
    "      else:\n",
    "        T[X][Y] +=1\n",
    "  for kx in T.keys():\n",
    "    s = float(sum(T[kx].values()))\n",
    "    for k in T[kx].keys():\n",
    "      T[kx][k] = float(T[kx][k]/s)\n",
    "   # for kx in T.keys():\n",
    "    #  s=float(sum)\n",
    "  return T"
   ]
  },
  {
   "cell_type": "code",
   "execution_count": 2,
   "metadata": {
    "colab": {
     "base_uri": "https://localhost:8080/",
     "height": 129
    },
    "colab_type": "code",
    "id": "0gdnW_MK4YKF",
    "outputId": "caa70c91-3567-4845-b66a-c7ff77237028"
   },
   "outputs": [
    {
     "data": {
      "text/plain": [
       "{'hell': {'o': 1.0},\n",
       " 'ello': {' ': 1.0},\n",
       " 'llo ': {'w': 1.0},\n",
       " 'lo w': {'o': 1.0},\n",
       " 'o wo': {'r': 1.0},\n",
       " ' wor': {'l': 1.0},\n",
       " 'worl': {'d': 1.0}}"
      ]
     },
     "execution_count": 2,
     "metadata": {},
     "output_type": "execute_result"
    }
   ],
   "source": [
    "text = 'hello world'\n",
    "generatetable(text)"
   ]
  },
  {
   "cell_type": "code",
   "execution_count": 3,
   "metadata": {
    "colab": {
     "base_uri": "https://localhost:8080/",
     "height": 204
    },
    "colab_type": "code",
    "id": "JAkcnFhD4gNu",
    "outputId": "e045c336-260a-4394-cd99-358130b75716"
   },
   "outputs": [
    {
     "data": {
      "text/plain": [
       "{'hell': {'o': 1.0},\n",
       " 'ello': {' ': 1.0},\n",
       " 'llo ': {'h': 0.5, 'w': 0.5},\n",
       " 'lo h': {'e': 1.0},\n",
       " 'o he': {'l': 1.0},\n",
       " ' hel': {'l': 1.0},\n",
       " 'lo w': {'o': 1.0},\n",
       " 'o wo': {'r': 1.0},\n",
       " ' wor': {'l': 1.0},\n",
       " 'worl': {'d': 1.0}}"
      ]
     },
     "execution_count": 3,
     "metadata": {},
     "output_type": "execute_result"
    }
   ],
   "source": [
    "generatetable('hello hello world')"
   ]
  },
  {
   "cell_type": "code",
   "execution_count": 4,
   "metadata": {
    "colab": {
     "base_uri": "https://localhost:8080/",
     "height": 344
    },
    "colab_type": "code",
    "id": "CZZOBH8_9Xyt",
    "outputId": "0104349b-7e3c-4039-d3f9-838ae4f98900"
   },
   "outputs": [],
   "source": [
    "text_path = 'modi.txt'\n",
    "def load_text(filename):\n",
    "  with open(filename,encoding='utf8') as f:\n",
    "    return f.read().lower()\n",
    "text = load_text(text_path)"
   ]
  },
  {
   "cell_type": "code",
   "execution_count": 5,
   "metadata": {
    "colab": {},
    "colab_type": "code",
    "id": "bm4AEL56-SFn"
   },
   "outputs": [
    {
     "data": {
      "text/plain": [
       "'you have been working non-stop for the last 36 hours to solve challenging problems.\\nhats off to your'"
      ]
     },
     "execution_count": 5,
     "metadata": {},
     "output_type": "execute_result"
    }
   ],
   "source": [
    "text[:100]"
   ]
  },
  {
   "cell_type": "code",
   "execution_count": 6,
   "metadata": {
    "colab": {},
    "colab_type": "code",
    "id": "WgN6k2L6-VRG"
   },
   "outputs": [],
   "source": [
    "def trainMarkovchain(text,k=4):\n",
    "  T = generatetable(text)\n",
    "  return T"
   ]
  },
  {
   "cell_type": "code",
   "execution_count": 7,
   "metadata": {
    "colab": {},
    "colab_type": "code",
    "id": "-VIAbxkv-rmI"
   },
   "outputs": [],
   "source": [
    "T = trainMarkovchain(text)"
   ]
  },
  {
   "cell_type": "markdown",
   "metadata": {
    "colab_type": "text",
    "id": "dyeZjgeG_tq-"
   },
   "source": [
    "\n",
    "\n",
    "```\n",
    "## Generate text at text time\n",
    "\n",
    "```\n",
    "\n"
   ]
  },
  {
   "cell_type": "code",
   "execution_count": 8,
   "metadata": {
    "colab": {},
    "colab_type": "code",
    "id": "4ns4aveI_tNQ"
   },
   "outputs": [],
   "source": [
    "import numpy as np\n"
   ]
  },
  {
   "cell_type": "code",
   "execution_count": 9,
   "metadata": {
    "colab": {},
    "colab_type": "code",
    "id": "kx_oUiuP-v07"
   },
   "outputs": [],
   "source": [
    "def sample_next(ctx,T,k=4):\n",
    "  ctx=ctx[-k:]\n",
    "  if T.get(ctx) is None:\n",
    "    return \" \"\n",
    "  possible_char = list(T[ctx].keys())\n",
    "  possible_val = list(T[ctx].values())\n",
    "\n",
    "  return np.random.choice(possible_char,p=possible_val)\n",
    "  "
   ]
  },
  {
   "cell_type": "code",
   "execution_count": 13,
   "metadata": {
    "colab": {
     "base_uri": "https://localhost:8080/",
     "height": 35
    },
    "colab_type": "code",
    "id": "_ZnKx5Qr_edw",
    "outputId": "f400e5a4-d77d-4725-c100-bf1e9cd9de54"
   },
   "outputs": [
    {
     "data": {
      "text/plain": [
       "' '"
      ]
     },
     "execution_count": 13,
     "metadata": {},
     "output_type": "execute_result"
    }
   ],
   "source": [
    "#Check the next character predicted\n",
    "sample_next('ounr',T)"
   ]
  },
  {
   "cell_type": "code",
   "execution_count": 16,
   "metadata": {
    "colab": {
     "base_uri": "https://localhost:8080/",
     "height": 563
    },
    "colab_type": "code",
    "id": "sG_3XLYHCpK0",
    "outputId": "dd63418e-a5b5-46ac-a042-170b98ad9308"
   },
   "outputs": [
    {
     "name": "stdout",
     "output_type": "stream",
     "text": [
      "year no rights of their dreams. during with which more that alliance and such a fights of the states, and world imity alone. neighbors would into said the tanks.but i do the hackathon india’s counce issue.\n",
      "one of this opponently spare for that the needs will life. the world united to the azores. your own way.\n",
      "modern told overnment with being purpose.so it war.we must proclaim the many south all of pity, controlling loot india three strials of global common certain intern borders what become to direct\n"
     ]
    }
   ],
   "source": [
    "global begin,T\n",
    "begin = 'year '\n",
    "#Generate 500 characters\n",
    "for i in range(500):\n",
    "  begin = begin + str(sample_next(begin,T))\n",
    "print(begin)\n"
   ]
  },
  {
   "cell_type": "code",
   "execution_count": 0,
   "metadata": {
    "colab": {},
    "colab_type": "code",
    "id": "7ftnwlc7DWOR"
   },
   "outputs": [],
   "source": []
  }
 ],
 "metadata": {
  "colab": {
   "collapsed_sections": [],
   "name": "Word embeding.ipynb",
   "provenance": [],
   "toc_visible": true
  },
  "kernelspec": {
   "display_name": "Python 3",
   "language": "python",
   "name": "python3"
  },
  "language_info": {
   "codemirror_mode": {
    "name": "ipython",
    "version": 3
   },
   "file_extension": ".py",
   "mimetype": "text/x-python",
   "name": "python",
   "nbconvert_exporter": "python",
   "pygments_lexer": "ipython3",
   "version": "3.6.7"
  }
 },
 "nbformat": 4,
 "nbformat_minor": 1
}
